{
 "cells": [
  {
   "cell_type": "code",
   "execution_count": 1,
   "metadata": {},
   "outputs": [],
   "source": [
    "TRAIN_REAL=\"../../data/real/clean/qalb-14+qalb-15/jsonl/train.jsonl\"\n",
    "TRAIN_REAL_WITH_ZAEBUC=\"../../data/real/clean/qalb-14+qalb-15+ZAEBUC/jsonl/train.jsonl\"\n",
    "TRAIN_SYNTH_Q15_T20=\"../../data/synthetic/qalb15/train_llm_rulebased_hybrid.jsonl\"\n",
    "TRAIN_SYNTH_ARABIL_T25_P0=\"../../data/synthetic/arabic_billion_words_50k_samples/shards_output_llm_rule_hybrid_temp_25/part_00.jsonl\"\n",
    "TRAIN_SYNTH_ARABIL_T25_P1=\"../../data/synthetic/arabic_billion_words_50k_samples/shards_output_llm_rule_hybrid_temp_25/part_01.jsonl\"\n",
    "TRAIN_SYNTH_ARABIL_T10_KEEP_UC_P2=\"../../data/synthetic/arabic_billion_words_50k_samples/shards_output_llm_rule_hybrid_temp_10_excl_UC/part_02.jsonl\"\n",
    "TRAIN_SYNTH_ARABIL_T10_KEEP_UC_P3=\"../../data/synthetic/arabic_billion_words_50k_samples/shards_output_llm_rule_hybrid_temp_10_excl_UC/part_03.jsonl\"\n"
   ]
  },
  {
   "cell_type": "code",
   "execution_count": 2,
   "metadata": {},
   "outputs": [
    {
     "name": "stdout",
     "output_type": "stream",
     "text": [
      "49997\n"
     ]
    }
   ],
   "source": [
    "import json\n",
    "import random\n",
    "train_arabil_synth_all = []\n",
    "for data in [TRAIN_SYNTH_ARABIL_T25_P0, TRAIN_SYNTH_ARABIL_T25_P1, TRAIN_SYNTH_ARABIL_T10_KEEP_UC_P2, TRAIN_SYNTH_ARABIL_T10_KEEP_UC_P3]:\n",
    "    with open(data) as f:\n",
    "        for l in f.readlines():\n",
    "            sample = json.loads(l)\n",
    "            train_arabil_synth_all.append({'source': sample['incorrect'], 'correct': sample['correct']})\n",
    "random.shuffle(train_arabil_synth_all)\n",
    "print(len(train_arabil_synth_all))"
   ]
  },
  {
   "cell_type": "code",
   "execution_count": 3,
   "metadata": {},
   "outputs": [
    {
     "name": "stdout",
     "output_type": "stream",
     "text": [
      "15430\n"
     ]
    }
   ],
   "source": [
    "train_qalb_synth = []\n",
    "with open(TRAIN_SYNTH_Q15_T20) as f:\n",
    "    for l in f.readlines():\n",
    "        sample = json.loads(l)\n",
    "        train_qalb_synth.append({'source': sample['incorrect'], 'correct': sample['correct']})\n",
    "random.shuffle(train_qalb_synth)\n",
    "print(len(train_qalb_synth))"
   ]
  },
  {
   "cell_type": "code",
   "execution_count": 13,
   "metadata": {},
   "outputs": [
    {
     "name": "stdout",
     "output_type": "stream",
     "text": [
      "19721\n"
     ]
    }
   ],
   "source": [
    "train_qalb = []\n",
    "with open(TRAIN_REAL) as f:\n",
    "    for l in f.readlines():\n",
    "        sample = json.loads(l)\n",
    "        train_qalb.append({'source': sample['source'], 'correct': sample['correct']})\n",
    "random.shuffle(train_qalb)\n",
    "print(len(train_qalb))"
   ]
  },
  {
   "cell_type": "code",
   "execution_count": 4,
   "metadata": {},
   "outputs": [
    {
     "name": "stdout",
     "output_type": "stream",
     "text": [
      "19871\n"
     ]
    }
   ],
   "source": [
    "train_qalb_zaebuc = []\n",
    "with open(TRAIN_REAL_WITH_ZAEBUC) as f:\n",
    "    for l in f.readlines():\n",
    "        sample = json.loads(l)\n",
    "        train_qalb_zaebuc.append({'source': sample['source'], 'correct': sample['correct']})\n",
    "random.shuffle(train_qalb_zaebuc)\n",
    "print(len(train_qalb_zaebuc))"
   ]
  },
  {
   "cell_type": "code",
   "execution_count": 5,
   "metadata": {},
   "outputs": [
    {
     "name": "stdout",
     "output_type": "stream",
     "text": [
      "105169\n"
     ]
    }
   ],
   "source": [
    "# data_w1_real_plus_all_synth = train_qalb + train_qalb_synth + train_arabil_synth_all\n",
    "# random.shuffle(data_w1_real_plus_all_synth)\n",
    "# print(len(data_w1_real_plus_all_synth))\n",
    "# data_w2_real_plus_all_synth = 2*train_qalb + train_qalb_synth + train_arabil_synth_all\n",
    "# random.shuffle(data_w2_real_plus_all_synth)\n",
    "# print(len(data_w2_real_plus_all_synth))\n",
    "data_w2_real_plus_zaebuc_plus_all_synth = 2*train_qalb_zaebuc + train_qalb_synth + train_arabil_synth_all\n",
    "print(len(data_w2_real_plus_zaebuc_plus_all_synth))"
   ]
  },
  {
   "cell_type": "code",
   "execution_count": 6,
   "metadata": {},
   "outputs": [],
   "source": [
    "# with open(\"../../data/synthetic/mix_q15_arabil/train-2x19k_real-1x25k+arabil_synth_t10_excl_UC+1x25karabil_synth_t25.jsonl\", 'w') as f:\n",
    "#     for example in data_w2_real_plus_all_synth:\n",
    "#         f.write(json.dumps(example) + '\\n')\n",
    "# with open(\"../../data/synthetic/mix_q15_arabil/train-19k_real-1x25k+arabil_synth_t10_excl_UC+1x25karabil_synth_t25.jsonl\", 'w') as f:\n",
    "#     for example in data_w1_real_plus_all_synth:\n",
    "#         f.write(json.dumps(example) + '\\n')\n",
    "with open(\"../../data/synthetic/mix_q15_zaebuc_arabil/train-2x19k_real-1x25k+arabil_synth_t10_excl_UC+1x25karabil_synth_t25.jsonl\", 'w') as f:\n",
    "    for example in data_w2_real_plus_zaebuc_plus_all_synth:\n",
    "        f.write(json.dumps(example) + '\\n')"
   ]
  },
  {
   "cell_type": "code",
   "execution_count": 5,
   "metadata": {},
   "outputs": [
    {
     "name": "stdout",
     "output_type": "stream",
     "text": [
      "17468\n",
      "Correct:  شهدت محافظة شمال سيناء ، استنفاراً أمنيا ، بعد وقوع انفجارين ، مساء أمس الأول ، وصباح أمس ، أسفرا عن إصابة 4 أشخاص وتدمير جزء من مبنى تابع لحرس الحدود بمدينة رفح ، فيما طالبت حركة حماس الفلسطينية السلطات المصرية بفتح أسواق على الحدود مع قطاع غزة .\n",
      "Synth Err:  شهدتمحافظة الشمال سيناء ، استنفاراً أسواق أمنيا بعد وقوع انفجارين ( ماء أمسالأول ! وصبإح أمس، يسفر ! عن إصابة ى4 المصرية أشخاص ودمير ! جزء . من تابع لفرس حد المدن رفح ؟ ، فثما طالبت حركس حمأس الفلس طينية السلطات المصريةبفتح أسواق عل ؛ الحدود مل قطأع الغزة .\n",
      "\n",
      "17469\n",
      "Correct:  وأشار هلال سعيد إلى أن الهدف الثالث الذي سجله لفريق في الثواني الأخير وأدرك به التعادل وخطف نقطه من الفرسان ، يعتبر هو الهدف الأغلى له في مسيرته مع النصر الذي أنضم إليه قبل عامين ، وهو الأول هذا الموسم .\n",
      "Synth Err:  وأشار هليل أسعد الى أن الهدفالثالث ال ذي سج له لفيق ( في … الثواني الأخري ُأدرك مبه تعادل أسعد وخطف من الفرسان يعتبر هو الهدفالأغلى له مسيرته ع َلنصر َلذي أن أنضم إليه قبل عامينس ، وهي ال أول هذ الموسم .\n",
      "\n",
      "17470\n",
      "Correct:  وفى إمبابة تلقى العميد حسن عليوة ، مفتش المباحث ، إشارة من شرطة النجدة تفيد بنشوب مشاجرة بمنطقة المنيرة بين 23 شخصاً بينهم 11 مسجل خطر . انتقل المقدم عمرو رضا ، رئيس مباحث بولاق الدكرور وبصحبته قوة من قسم إمبابة ، وأطلق النيران فى الهواء لتفرقة الطرفين ، وتمكن من إلقاء القبض على 5 أشخاص وتبين إصابة 6 آخرين بطلقات نارية ، وكشفت التحريات أن سبب المعركة قيام أحد المسجلين بمعاكسة فتاة أثناء مرورها بالشارع ، فتدخل شقيقها لمعاتبة المتهم ونشبت مشاجرة بينهم وتحولت المنطقة إلى حرب شوارع استمرت ما يقرب من ساعتين ، وتمكن 13 متهماً من الهروب وجار ضبطهم .\n",
      "Synth Err:  وف إمبابة تلجى العميد تحسن خليوة ؟ ( مفتش المباحثَ ؛ إشإرة همن شرعة َلنجدة جتفيد نشب . مشاجرة بمنطقةالمنيرة البين 23 شخصاً بيهم عدد مسلج خطر ؟ انتول المقدم عمرُ ) رضا … ، رئيس مباحث بلق بلق الدكرور وبصحبجه قوةت \" من سم بإمبابة وأطلق النار فِى الهواء لتفرقة الأطراف ، . وتمكن من إلقاءات القبضَ علي أشخاصٍ إصابة الهواء 6 آخرين بطلقات نأرية ، ، وكحفت أن سببالمعركة أحد المطجلين بمعاكسةفتاة أثنى مرور بلاشارع ، فتدخل الشق لمعاتبه المتهم ؟ ونشبت مشاجرة بينهم تتحول نطق حرب شوارع ! استمرت ما يقره منؤ ساعتين . ، 13 متهمً من الهروب جار ضطبهم .\n",
      "\n",
      "17471\n",
      "Correct:  إذا كان الرئيس محمد حسنى مبارك قد أعلن خلال زيارته الأخيرة لمحافظة بورسعيد عن تحويل بورسعيد إلى محافظة ذات ثلاث مدن ، فإن الإجراءات الأمنية المشددة التى صاحبت الزيارة وأؤكد أن أبناء بورسعيد الشرقية والغربية على حد سواء كانوا فى غاية السعادة لزيارة السيد الرئيس وتشريفه لمدينتهم بعد عشر سنوات كاملة وثلاثة أشهر واثنين وعشرين يوماً على آخر زيارة قام بها سيادته إلى بورسعيد . .\n",
      "Synth Err:  ذإا كان الرئيس حسنى مبارك قد أعلن خلال زيارته الأخيرة لمحفاظة بورسآيد فإن عن تحويل بُرسعيد ل محافظة ذات ثلاث مدن ، فإن الأمنية مشدد التى صاحبت الزيارة وأكؤد أن أبناء ! بورسعيد \" الشرقية والغربية عى حد سواء … كانوا ى غايةً السعادة لزيارة السيد الرئس وتشريفه لمدينته بعد عشر سنوات كاملة وثلاثة أشهر واثنين وعشرني يوماً على آخر زراعة قامو بها سيادتيه إحى بُرسعيد . .\n",
      "\n",
      "17472\n",
      "Correct:  وتابع : « عندما رأيت ابني للمرة الأولى في غرفة العناية بعد الإصابة أودعته في رعاية الله ، حيث كانت حالته صعبه ، وكان محمد نجيب مدير عام قنوات أبوظبي الرياضية ويعقوب السعدي مدير البرامج متواجدان معنا ، وأيضاً كل زملائه سواء السابقين في دبي الرياضية وأبوظبي الرياضية كانوا معنا دائما ، وظلوا يدعون له بصدق ، كما تلقيت اتصالاً من المستشار العسكري لسفارة الدولة في واشنطن الذي أكد فيه أنه يتابع الأمر ، وأنه يتمنى الشفاء العاجل لطارق ، وحينها تأكدت أن العالم أصبح قرية صغيرة ، كما أننا عرفت من خلال هذه الأزمة أيضاً بمدى حب الناس لابني طارق ، وهذه قيمة الحياة الحقيقية » .\n",
      "Synth Err:  وتابعة : ؛ « عصدما رقيت الابنان للمرة الأولي ي غرفه الإهمال بعدالإصابة أودعتهفي رعاية الله ؛ ، حيثكانت حالته صعبةً ؛ وكان محبد نجشب مدِر عامقنوات أبو ظبي الرياضية ويعقوب السعدي مير البرامج متوا جدان منعا وأيضاً كل سواء اغسابقين دبي الإياضية وأبوظبي أرض كانوا معنَ ، ظلوا قيمة يدعون هل بصق ، كاف لقيت اتصالاً من اإمستشار العسكير لسفارة الدولة في واشنطنالذي أكدئ فيه أه يتَبع الأمرل ( وانه يتمنى الشفاء العأجل لطارق ، ، العسكير وحينها ، تأكدت أر العالمآ قرية صغ يرة \" أكما أنا أعرفت منخلال هذهالأزمة أيضاً بمدج حب الناس لابني طأرق ( وهذه الابنان قيمة ( الحياة الحقيقية » .\n",
      "\n",
      "17473\n",
      "Correct:  وبناء على ما تقدم ، يؤكد الاتحاد على الحقائق التالية :\n",
      "Synth Err:  وبنَء وعلى ما تقدم ، يؤ كد الأتحأد على الحقائق التالية :\n",
      "\n",
      "17474\n",
      "Correct:  من جهة ثانية ، فات بعض الاعلاميين ذكر الاسباب الموضوعية لخسارة الانصار القاسية امام المبرة ، فانهالوا تجريحا بالمتصدر متناسين ان فرقا كبيرة عربية وأوروبية خسرت ولم يتعامل معها الاعلام بهذه الطريقة لانها اكدت جدارتها بمحصلة نتائجها في الموسم ، ومن هذه الفرق الاهلي بطل مصر الذي خسر 0 ـ 3 امام الاسماعيلي ، ومانشستر بطل انكلترا الذي خسر امام ميلان 0 ـ 3 ، والانتر بطل ايطاليا الذي خسر امام روما 2 ـ 6 . كذلك ، فات هؤلاء الاعلاميين ان 3 من اعمدة دفاع الانصار غابوا عن اللقاء وهم علي متيرك والعراقي سعد عطية حافظ واحمد الشوم .\n",
      "Synth Err:  من جهه ثانية ، فات بعض الاعل اميين ذر الاسباب الموضوعية لخسارة الانصار القاسية امام المبرات ، فانهالوا تجريحان بالمتصدر متناسين ان فرقا كبرة عربية وأوروبية ؟ خسرت ولم يتطامل معها الالام بةذة الطريقة لانها اكدت جدارتها بمحصلة نتائجها فيالموسم ، ومن هذه الفرق الاهلي بطل ! مصر الذي خسر 0 ـ ى3 امام الاماعيلي ، ( ومانشستر ( بطل انكلترا الذي خسر ميلان 0 3 ، والانتر بطل ايطالياؤ \" الذي ! خسر امام وما 2 … ـ 6 . ذكلك ، فتح هؤلاء الاعلاميين ان 3 من اعمدة فاع الانصار غابوا عن وهم علي متيرك والعراقي سعد عطية حاظ واحمدع الشوم . …\n",
      "\n",
      "17475\n",
      "Correct:  أود أن أوضح فى بداية الأمر أنى مسلم وفخور بدينى وما دعانى لكتابة المقال هو قول رسولنا الكريم ، صلى الله عليه وسلم : « من ظلم معاهداً أو انتقصه حقاً أو كلفه فوق طاقته أو أخذ منه شيئاً بغير طيب نفس منه ، فأنا حجيجه يوم القيامة » ، وما صدر من حكم للإدارية العليا هو استفزاز لمشاعر الأقباط حتى ولو كان غير مقصود . . لسنا بحاجة إلى ما يزيد الفتنة ، إننا نعيش فى وطن كلنا سواء ، وليس من حق أى شخص مهما كانت سلطته أن يعدل على شريعة أى شخص . .\n",
      "Synth Err:  أود أن ( أوضح فى بداية الأمر مسلم وفخور بدينى وما دعَنى سلطته لكتابة المقال قول رسولانا الكريم ، صلي ألله عليه : « من ظم معاهداً أو انتقصه حقاً أو كلفه فوق طاقته أو أخذ منه شيئًا بغير طيبن منه ، فأنا . حجيجه اليوم القيامة » وما صدر من حكم للإدَرية العليا هو استفزازلمشاعر الأقباط حتى ولوكان … غير قصود . . … . لسنم بحاجة إلى مَ يزيد َلفتنة ، ، نُنَادي نعِش . فى وطن كلنا سوءا ( ، ألله وليس من \" حق أى شخص مهمَ كانت سلطته يعدل علم شريعة أى شخص . .\n",
      "\n",
      "17476\n",
      "Correct:  وشهد قطاع المساكن نموا قويا مع تسجيل عدد الشقق السكنية قفزة بلغت 146 بالمئة منذ 2004 . ويوجد حاليا 18 ألف مبنى جديد قيد الإنشاء . وقال فهد احمد هيرسي كبير الخبراء الاقتصاديين في مصرف الريان “ نعتقد ان سكان قطر سيستمرون في النمو بمعدل مطرد قدره 5 . 3 بالمئة سنويا مع بقاء موارد وفيرة غير مستغلة في البلد بما في ذلك بعض الموارد المرتبطة بالطاقة التي ستغذي النمو في المستقبل المنظور وستكون اداة لاجتذاب المغتربين ” .\n",
      "Synth Err:  وشهد قطاع \" المساكن نأوا قويا م تجيل عدد الشقق السكنية قفزة بلغت 146 بالمئة نَتَوَسَّع 2004 ويوجد حاليا 18 الف مبنا جديد ليد الإنشاء . وقال بما فهد أحمد هطرسي كيبر َلخبرَء الاقتصاديين فيمصرف الريان“ نعتذد ان سكان قطر سيةتمرون لي نمو بمعدل قدره 5 ( ، 3 بالمئة نسويا مع بقاء موراد وفيرة غيرج مستغلة في البلدان بما في ذلك الموارد المرتبطة بالطاقة التي ستغذي َلنمو في المستقبل ! المنظور وستكون ادة الجتذاب المغتربين ” .\n",
      "\n",
      "17477\n",
      "Correct:  سقط من المتظاهرين قتلى ، وبعضهم أصيب من الخلف ( ! ) كما سقط قتلى من الجيش ، ولكن مصادر النيران لم تزل مشبوهة .\n",
      "Synth Err:  سقط ، من المتظاهرينقتلى وبعضهم من الخلف( ! ) كماسقط … قتلى ءمن الجيش ؛ ، ولكن مصادر بلنيران م تزلمشبوهة . \"\n",
      "\n"
     ]
    }
   ],
   "source": [
    "import random\n",
    "st = random.randint(0, len(train_arabil_synth_all) - 10)\n",
    "end= st + 10\n",
    "for i in range(st, end):\n",
    "    print(i)\n",
    "    # print(\"Correct: \", train_real[i]['correct'])\n",
    "    # print(\"Real Err: \", train_real[i]['source'])\n",
    "    # print()\n",
    "    print(\"Correct: \", train_arabil_synth_all[i]['correct'])\n",
    "    print(\"Synth Err: \", train_arabil_synth_all[i]['incorrect'])\n",
    "    print()"
   ]
  },
  {
   "cell_type": "code",
   "execution_count": 4,
   "metadata": {},
   "outputs": [],
   "source": [
    "all_data = []\n",
    "for sample in train_real:\n",
    "    all_data.append({'source': sample['source'], 'correct': sample['correct']})\n",
    "for sample in train_synth:\n",
    "    all_data.append({'source': sample['incorrect'], 'correct': sample['correct']})\n",
    "random.shuffle(all_data)\n"
   ]
  },
  {
   "cell_type": "code",
   "execution_count": 5,
   "metadata": {},
   "outputs": [
    {
     "name": "stdout",
     "output_type": "stream",
     "text": [
      "34511\n"
     ]
    }
   ],
   "source": [
    "print(len(all_data))"
   ]
  },
  {
   "cell_type": "code",
   "execution_count": 6,
   "metadata": {},
   "outputs": [],
   "source": [
    "with open(\"../../data/synthetic/qalb15/train_combined_real+synth_llm_rulebased_hybrid_temp_10_excl_UC.jsonl\", 'w') as f:\n",
    "    for example in all_data:\n",
    "        f.write(json.dumps(example) + '\\n')"
   ]
  },
  {
   "cell_type": "code",
   "execution_count": null,
   "metadata": {},
   "outputs": [],
   "source": []
  }
 ],
 "metadata": {
  "kernelspec": {
   "display_name": "arabic-gec",
   "language": "python",
   "name": "python3"
  },
  "language_info": {
   "codemirror_mode": {
    "name": "ipython",
    "version": 3
   },
   "file_extension": ".py",
   "mimetype": "text/x-python",
   "name": "python",
   "nbconvert_exporter": "python",
   "pygments_lexer": "ipython3",
   "version": "3.10.16"
  }
 },
 "nbformat": 4,
 "nbformat_minor": 2
}
