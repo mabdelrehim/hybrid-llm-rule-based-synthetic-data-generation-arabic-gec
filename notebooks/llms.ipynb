{
 "cells": [
  {
   "cell_type": "code",
   "execution_count": 1,
   "metadata": {},
   "outputs": [],
   "source": [
    "# Use a pipeline as a high-level helper\n",
    "from transformers import pipeline, AutoTokenizer"
   ]
  },
  {
   "cell_type": "code",
   "execution_count": 2,
   "metadata": {},
   "outputs": [],
   "source": [
    "import os\n",
    "os.environ['HF_HOME'] = '../../hf_home/'"
   ]
  },
  {
   "cell_type": "code",
   "execution_count": 3,
   "metadata": {},
   "outputs": [],
   "source": [
    "import json\n",
    "import pprint as pp\n",
    "with open(\"../error_types.json\") as f:\n",
    "    err_definitions = json.load(f)\n",
    "    \n",
    "err_def_str = pp.pformat(err_definitions)\n"
   ]
  },
  {
   "cell_type": "code",
   "execution_count": 5,
   "metadata": {},
   "outputs": [],
   "source": [
    "with open(\"../../data/real/clean/qalb-14/jsonl/dev.jsonl\") as f:\n",
    "    q14 = [json.loads(l) for l in f]\n",
    "with open(\"../../data/real/clean/qalb-14+qalb-15/jsonl/dev.jsonl\") as f:\n",
    "    q15l1 = [json.loads(l) for l in f]\n",
    "with open(\"../../data/real/clean/qalb-14+qalb-15/jsonl/dev-l2.jsonl\") as f:\n",
    "    q15l2 = [json.loads(l) for l in f]\n",
    "with open(\"../../data/real/clean/qalb-14+qalb-15+ZAEBUC/jsonl/dev.jsonl\") as f:\n",
    "    zaebuc = [json.loads(l) for l in f]"
   ]
  },
  {
   "cell_type": "code",
   "execution_count": 6,
   "metadata": {},
   "outputs": [],
   "source": [
    "with open(\"../../data/real/clean/qalb-14/jsonl/test.jsonl\") as f:\n",
    "    q14_test = [json.loads(l) for l in f]\n",
    "with open(\"../../data/real/clean/qalb-14+qalb-15/jsonl/test-l1.jsonl\") as f:\n",
    "    q15l1_test = [json.loads(l) for l in f]\n",
    "with open(\"../../data/real/clean/qalb-14+qalb-15/jsonl/test-l2.jsonl\") as f:\n",
    "    q15l2_test = [json.loads(l) for l in f]\n",
    "with open(\"../../data/real/clean/qalb-14+qalb-15+ZAEBUC/jsonl/test.jsonl\") as f:\n",
    "    zaebuc_test = [json.loads(l) for l in f]"
   ]
  },
  {
   "cell_type": "code",
   "execution_count": null,
   "metadata": {},
   "outputs": [
    {
     "data": {
      "application/vnd.jupyter.widget-view+json": {
       "model_id": "5c3fe624d410408eaa3d43dcff856a5e",
       "version_major": 2,
       "version_minor": 0
      },
      "text/plain": [
       "tokenizer_config.json:   0%|          | 0.00/55.4k [00:00<?, ?B/s]"
      ]
     },
     "metadata": {},
     "output_type": "display_data"
    },
    {
     "data": {
      "application/vnd.jupyter.widget-view+json": {
       "model_id": "3bcaded85b564569ba86b27ab1f48107",
       "version_major": 2,
       "version_minor": 0
      },
      "text/plain": [
       "tokenizer.json:   0%|          | 0.00/9.09M [00:00<?, ?B/s]"
      ]
     },
     "metadata": {},
     "output_type": "display_data"
    },
    {
     "data": {
      "application/vnd.jupyter.widget-view+json": {
       "model_id": "4ecda4dfd858490dbb6ceb34854af910",
       "version_major": 2,
       "version_minor": 0
      },
      "text/plain": [
       "special_tokens_map.json:   0%|          | 0.00/296 [00:00<?, ?B/s]"
      ]
     },
     "metadata": {},
     "output_type": "display_data"
    },
    {
     "data": {
      "application/vnd.jupyter.widget-view+json": {
       "model_id": "3a0e276a5cc64bbe9b0c26a71935ca85",
       "version_major": 2,
       "version_minor": 0
      },
      "text/plain": [
       "config.json:   0%|          | 0.00/855 [00:00<?, ?B/s]"
      ]
     },
     "metadata": {},
     "output_type": "display_data"
    },
    {
     "data": {
      "application/vnd.jupyter.widget-view+json": {
       "model_id": "3cdd2c08d37d49208df63efee1414802",
       "version_major": 2,
       "version_minor": 0
      },
      "text/plain": [
       "model.safetensors.index.json:   0%|          | 0.00/23.9k [00:00<?, ?B/s]"
      ]
     },
     "metadata": {},
     "output_type": "display_data"
    },
    {
     "data": {
      "application/vnd.jupyter.widget-view+json": {
       "model_id": "929800b146d9492b9267e9a07b20d682",
       "version_major": 2,
       "version_minor": 0
      },
      "text/plain": [
       "Downloading shards:   0%|          | 0/4 [00:00<?, ?it/s]"
      ]
     },
     "metadata": {},
     "output_type": "display_data"
    },
    {
     "data": {
      "application/vnd.jupyter.widget-view+json": {
       "model_id": "5101a142b41e492c987de2a073104f04",
       "version_major": 2,
       "version_minor": 0
      },
      "text/plain": [
       "model-00001-of-00004.safetensors:   0%|          | 0.00/4.98G [00:00<?, ?B/s]"
      ]
     },
     "metadata": {},
     "output_type": "display_data"
    },
    {
     "data": {
      "application/vnd.jupyter.widget-view+json": {
       "model_id": "362e2a48b7784af4bb7f8a84175356f0",
       "version_major": 2,
       "version_minor": 0
      },
      "text/plain": [
       "model-00002-of-00004.safetensors:   0%|          | 0.00/5.00G [00:00<?, ?B/s]"
      ]
     },
     "metadata": {},
     "output_type": "display_data"
    },
    {
     "data": {
      "application/vnd.jupyter.widget-view+json": {
       "model_id": "7f200b42a0f84b30883014367919e22e",
       "version_major": 2,
       "version_minor": 0
      },
      "text/plain": [
       "model-00003-of-00004.safetensors:   0%|          | 0.00/4.92G [00:00<?, ?B/s]"
      ]
     },
     "metadata": {},
     "output_type": "display_data"
    },
    {
     "data": {
      "application/vnd.jupyter.widget-view+json": {
       "model_id": "c56df0797c854241a1d0b018572b21ce",
       "version_major": 2,
       "version_minor": 0
      },
      "text/plain": [
       "model-00004-of-00004.safetensors:   0%|          | 0.00/1.17G [00:00<?, ?B/s]"
      ]
     },
     "metadata": {},
     "output_type": "display_data"
    },
    {
     "data": {
      "application/vnd.jupyter.widget-view+json": {
       "model_id": "0db3f6bbc9474993807e6951838b96ca",
       "version_major": 2,
       "version_minor": 0
      },
      "text/plain": [
       "Loading checkpoint shards:   0%|          | 0/4 [00:00<?, ?it/s]"
      ]
     },
     "metadata": {},
     "output_type": "display_data"
    },
    {
     "data": {
      "application/vnd.jupyter.widget-view+json": {
       "model_id": "535e598ad48242009fa1ff3c61f58a8b",
       "version_major": 2,
       "version_minor": 0
      },
      "text/plain": [
       "generation_config.json:   0%|          | 0.00/184 [00:00<?, ?B/s]"
      ]
     },
     "metadata": {},
     "output_type": "display_data"
    }
   ],
   "source": [
    "\n",
    "import torch\n",
    "tokenizer = AutoTokenizer.from_pretrained(\"meta-llama/Meta-Llama-3.1-8B-Instruct\")\n",
    "tokenizer.pad_token_id = tokenizer.eos_token_id\n",
    "pipe = pipeline(\"text-generation\",\n",
    "                model=\"meta-llama/Meta-Llama-3.1-8B-Instruct\",\n",
    "                tokenizer=tokenizer,\n",
    "                device_map=\"cuda\",\n",
    "                trust_remote_code=True)"
   ]
  },
  {
   "cell_type": "code",
   "execution_count": 16,
   "metadata": {},
   "outputs": [
    {
     "data": {
      "text/plain": [
       "[{'generated_text': [{'role': 'system',\n",
       "    'content': \"You are an AI assistant that is an expert in the Arabic language. Your Goal is to correct the grammatical mistakes in any given sentence. You should apply minimal changes to output the same sentence but free of any grammatical errors.Here are the definition of common grammatical errors in arabic and examples on how to fix them:\\n{'MG': {'description': 'Words are Merged',\\n        'example': {'correct': 'ذهبت البارحة', 'incorrect': 'ذهبتالبارحة'}},\\n 'MI': {'description': 'Incorrect Word Inflection',\\n        'example': {'correct': 'عارف', 'incorrect': 'معروف'}},\\n 'MT': {'description': 'Incorrect Verb Tense',\\n        'example': {'correct': 'أفرحتني', 'incorrect': 'تفرحني'}},\\n 'OA': {'description': 'Yaa / Alif Maksura Confusion',\\n        'example': {'correct': 'على', 'incorrect': 'علي'}},\\n 'OC': {'description': 'Wrong Order of Letters',\\n        'example': {'correct': 'تربينا', 'incorrect': 'تبرينا'}},\\n 'OD': {'description': 'A Letter is Incorrectly Added',\\n        'example': {'correct': 'يدوم', 'incorrect': 'يعدوم'}},\\n 'OG': {'description': 'Long Vowel Should be Short',\\n        'example': {'correct': 'نقيم', 'incorrect': 'نقيمو'}},\\n 'OH': {'description': 'Incorrect Hamza',\\n        'example': {'correct': 'إمتحان', 'incorrect': 'أمتحان'}},\\n 'OM': {'description': 'A Letter is Missing',\\n        'example': {'correct': 'سائلين', 'incorrect': 'سالين'}},\\n 'ON': {'description': 'Incorrect Tanween',\\n        'example': {'correct': 'ثوبٌ', 'incorrect': 'ثوبن'}},\\n 'OR': {'description': 'A Letter is Incorrectly Replaced',\\n        'example': {'correct': 'وصلنا', 'incorrect': 'مصلنا'}},\\n 'OS': {'description': 'Short Vowel Should be Long',\\n        'example': {'correct': 'أوقات', 'incorrect': 'أوقت'}},\\n 'OT': {'description': 'Taa Marbuta / Haa Marbuta Confusion',\\n        'example': {'correct': 'مشاركة', 'incorrect': 'مشاركه'}},\\n 'OW': {'description': 'Incorrect Waw Fariqa',\\n        'example': {'correct': 'وكانوا', 'incorrect': 'وكانو'}},\\n 'PC': {'description': 'Punctuation Confusion',\\n        'example': {'correct': 'المتوسط ،', 'incorrect': 'المتوسط .'}},\\n 'PM': {'description': 'Missing Punctuation',\\n        'example': {'correct': 'العظيم ،', 'incorrect': 'العظيم'}},\\n 'PT': {'description': 'Unnecessary Punctuation',\\n        'example': {'correct': 'العام', 'incorrect': 'العام ,'}},\\n 'SF': {'description': 'Incorrect Conjunction Use/Non-use',\\n        'example': {'correct': 'فسبحان', 'incorrect': 'سبحان'}},\\n 'SP': {'description': 'A Word is Split',\\n        'example': {'correct': 'المحادثات', 'incorrect': 'المحا دثات'}},\\n 'SW': {'description': 'Incorrect Preposition',\\n        'example': {'correct': 'عن', 'incorrect': 'من'}},\\n 'UC': {'description': 'No Error',\\n        'example': {'correct': 'صحيح', 'incorrect': 'صحيح'}},\\n 'XC': {'description': 'Incorrect Case (Nominative, Accusative, Genitive)',\\n        'example': {'correct': 'رائعاً', 'incorrect': 'رائع'}},\\n 'XF': {'description': 'Incorrect Definiteness (Definite, Indefinite)',\\n        'example': {'correct': 'سن', 'incorrect': 'السن'}},\\n 'XG': {'description': 'Incorrect Gender (Masculine, Feminine)',\\n        'example': {'correct': 'الغربية', 'incorrect': 'الغربي'}},\\n 'XM': {'description': 'Missing Word',\\n        'example': {'correct': 'على', 'incorrect': ''}},\\n 'XN': {'description': 'Incorrect Number (Singular, Two, Plural)',\\n        'example': {'correct': 'أفكاري', 'incorrect': 'فكرتي'}},\\n 'XT': {'description': 'Unnecessary Word',\\n        'example': {'correct': '', 'incorrect': 'على'}}}\\n\"},\n",
       "   {'role': 'user',\n",
       "    'content': 'الرحلة إلى مكة المكرمة والمدينة المنورة في يوم اثنان من أسبوع ماضي ، سافرت إلى مكة المكرمة مع الأصدقاء . ركبنا الحافلة من الرياض في الساعة الثالث ونصف بعد صلاة العسر . وصلنا إلى ميقات في الساعة الثامن ليلا ، صلينا صلاة المغرب والعساء مجموع \" قصير \" ثم وجه إلى مكة وصلنا في المطعم ، أكلنا الطعام يعد ذلك رجعنا إلى مكة وصلنا مكة في الساعة الثانية ونصف صباح ، ذهبنا إلى البيت الحرام مبشرة ليصنع عمرة بعد انتهينا عمرة رجعنا إلى الفندوق لنستريح قليلا بعد ذلك سافرنا من مكة المكرمة إلى المدينة المنورة في الساعة الثاني عشرة ونصف بعد الصلاة ظهور ، وصلنا المدينة المنورة في الساعة السادس وربعا صلينا في المسجد النبوي وسلمنا على قبر النبوي صلى الله عليه وسلم وأبوبكر صديق وعمر رضي الله عنهما . في يوم الثاني في المدينة المنورة ذهبنا إلى الجامعة الإسلامية لسلام على الطلاب هم يدرسون في المدينة المنورة .   ذهبنا إلى المسحد قب والمسجد قبلتين صلينا صلاة العسر والمغرب هنك ، ثم رحعنا إلى الفندوق لنوم .'},\n",
       "   {'role': 'assistant',\n",
       "    'content': 'الرحلة إلى مكة المكرمة والمدينة المنورة . في يوم الاثنين من الأسبوع الماضي ، سافرت إلى مكة المكرمة مع الأصدقاء . ركبنا الحافلة من الرياض في الساعة الثالثة ونصف بعد صلاة العصر . وصلنا إلى الميقات في الساعة الثامنة ليلا ، صلينا صلاة المغرب والعشاء جمعا \" قصير \" ، ثم توجهنا إلى مكة . وصلنا إلى المطعم ، أكلنا الطعام ، بعد ذلك رجعنا إلى مكة ، وصلنا إلى مكة في الساعة الثانية ونصف صباحا ، ذهبنا إلى البيت الحرام مباشرة لأداء العمرة ، بعدما انتهينا من العمرة رجعنا إلى الفندق لنستريح قليلا ، بعد ذلك سافرنا من مكة المكرمة إلى المدينة المنورة في الساعة الثانية عشرة ونصف ، بعد صلاة الظهر . وصلنا إلى المدينة المنورة في الساعة السادسة والربع ، صلينا في المسجد النبوي ، وسلمنا على قبر النبي - صلى الله عليه وسلم - وأبي بكر الصديق وعمر - رضي الله عنهما - . في اليوم الثاني في المدينة المنورة ، ذهبنا إلى الجامعة الإسلامية للتسليم على الطلاب الذين يدرسون في المدينة المنورة . ذهبنا إلى مسجد قباء ومسجد القبلتين ، صلينا صلاة العصر والمغرب هناك ، ثم رجعنا إلى الفندق للنوم .'},\n",
       "   {'role': 'user',\n",
       "    'content': 'الرحلة إلى الفلبين عندما رجعت إلى الفلبين حيندئذ أنا مسرور جدا ومعي أصدقائي . لما وصلنا في المطار مدينة زامبوانجا قابلنا والدينا مسروين وبعد ذلك تفرقنا ؛ لأن كل أحد منا يذهب الى بلاده مع والديهم وأقاربهم ، أما نحن ذهبنا الى بيت خالتي لكي نأخذ الإستراحة ثم نتحدث ، لما وصلنا في البيت ووضعت حقيبتي وجلست في الكرسي وتحدثت معهم مسرورين ، وهم يسألونني عن نسبة دراستى في السعودية ، وكيف أحوالي في السعودية ، وكيف المعيشة في السعودية ، وأجبت كل ما يسألون علي ، قلت . الحمد لله بخير ، الحمد لله كل بخير .   وبعد ذلك ، ذهبنا الى المدينة ؛ لنشتري بعض الأشياء ، وما أحتاج من الملابس وغير ذلك . . . . . . .'},\n",
       "   {'role': 'assistant',\n",
       "    'content': 'الرحلة إلى الفلبين . عندما رجعت إلى الفلبين كنت مسرورا جدا وكان معي أصدقائي . لما وصلنا إلى المطار في مدينة زامبوانجا ، قابلنا والدينا مسرورين ، وبعد ذلك تفرقنا ؛ لأن كل واحد منا سيذهب إلى بلاده مع والديهم وأقاربهم ؛ أما نحن فذهبنا إلى بيت خالتي لكي نأخذ استراحة ، ثم نتحدث . لما وصلنا إلى البيت ، وضعت حقيبتي ، وجلست على الكرسي ، وتحدثت معهم ، وكنا مسرورين ، وهم يسألونني عن نسبة دراستي في السعودية ، وكيف أحوالي في السعودية ؟ وكيف المعيشة في السعودية ؟ وأجبت عن كل ما سألوني عليه ، قلت : الحمد لله بخير ، الحمد لله كل شيء بخير . وبعد ذلك ، ذهبنا إلى المدينة لنشتري بعض الأشياء ، وما أحتاجه من الملابس ، وغير ذلك .'},\n",
       "   {'role': 'user',\n",
       "    'content': 'نحن معشر العرب نعرف الا الشماته و لكن يجب ان ندرس هذه الحالة و نحن المخرج منها من الاقتصاد الاسلامي حتي يكون ذلك فتح جديد للعالم الاسلامي حتي نتمكن من نشر الاسلام الصحيح الذي يدعو الي عبادة اللله الواحد الاحد و الاستفادة منه ايضا في الحياة العملية'},\n",
       "   {'role': 'assistant',\n",
       "    'content': 'نحن العرب نعرف الا الشماته ، ولكن يجب علينا أن ندرس هذه الحالة ، فنحن نملك المخرج منها من خلال الاقتصاد الإسلامي ، حتى يكون ذلك فتحا جديدا للعالم الإسلامي ، حتى نتمكن من نشر الإسلام الصحيح الذي يدعو إلى عبادة الله الواحد الأحد ، والاستفادة منه أيضا في الحياة العملية.'}]}]"
      ]
     },
     "execution_count": 16,
     "metadata": {},
     "output_type": "execute_result"
    }
   ],
   "source": [
    "messages = [\n",
    "    {\"role\": \"system\", \"content\": \"You are an AI assistant that is an expert in the Arabic language. Your Goal is to correct the grammatical mistakes in any given \"\n",
    "                                  \"sentence. You should apply minimal changes to output the same sentence but free of any grammatical errors.\"\n",
    "                                  \"Here are the definition of common grammatical errors in arabic and examples on how to fix them:\"\n",
    "                                  f\"\\n{err_def_str}\\n\"},\n",
    "    {\"role\": \"user\", \"content\": f\"{q15l1[1]['source']}\"}, {\"role\": \"assistant\", \"content\": f\"{q15l1[1]['correct']}\"},\n",
    "    {\"role\": \"user\", \"content\": f\"{q15l1[2]['source']}\"}, {\"role\": \"assistant\", \"content\": f\"{q15l1[2]['correct']}\"},\n",
    "    # {\"role\": \"user\", \"content\": f\"{q15l1[4]['source']}\"}, {\"role\": \"assistant\", \"content\": f\"{q15l1[4]['correct']}\"},\n",
    "    # {\"role\": \"user\", \"content\": f\"{q15l1[8]['source']}\"}, {\"role\": \"assistant\", \"content\": f\"{q15l1[8]['correct']}\"},\n",
    "    {\"role\": \"user\", \"content\": f\"{q15l1_test[0]['source']}\"},\n",
    "]\n",
    "pipe(messages, max_new_tokens=2048)"
   ]
  },
  {
   "cell_type": "code",
   "execution_count": 12,
   "metadata": {},
   "outputs": [
    {
     "data": {
      "text/plain": [
       "[{'generated_text': [{'role': 'system',\n",
       "    'content': 'You are an AI assistant that is an expert in the Arabic language. Your Goal is to correct the grammatical mistake of the given type in any given word or phrase.'},\n",
       "   {'role': 'user', 'content': 'error type: XG\\nفرحوا'},\n",
       "   {'role': 'assistant', 'content': 'فرحن'},\n",
       "   {'role': 'user', 'content': 'افرغت'},\n",
       "   {'role': 'assistant',\n",
       "    'content': 'الكلمة \"فرحوا\" مكتوبة بشكل صحيح. ولكن الكلمة \"افرغت\" تحتاج إلى تصحيح. في اللغة العربية، الفعل \"أفرغت\" يعني أن شيئا ما كان يحتوي على شيء آخر ولكن الآن هذا الشيء الآخر غير موجود. لذا، الكلمة الصحيحة هي \"أفرغت\" وليس \"فرغت\".'}]}]"
      ]
     },
     "execution_count": 12,
     "metadata": {},
     "output_type": "execute_result"
    }
   ],
   "source": [
    "messages = [\n",
    "    {\"role\": \"system\", \"content\": \"You are an AI assistant that is an expert in the Arabic language. Your Goal is to correct the grammatical mistake of the given type in any given \"\n",
    "                                  \"word or phrase.\"},\n",
    "    {\"role\": \"user\", \"content\": f\"error type: XG\\nفرحوا\"}, {\"role\": \"assistant\", \"content\": f\"فرحن\"},\n",
    "    {\"role\": \"user\", \"content\": f\"افرغت\"},\n",
    "]\n",
    "pipe(messages, max_length=2048)"
   ]
  },
  {
   "cell_type": "code",
   "execution_count": 17,
   "metadata": {},
   "outputs": [],
   "source": [
    "messages = [\n",
    "    {\"role\": \"system\", \"content\": \"You are an AI assistant fluent in Arabic. Your Goal is to correct the grammatical mistakes in any given \"\n",
    "                                  \"sentence. You shold only output the version of the sentence free of any grammatical errors without \"\n",
    "                                  \"adding anything else or changing the formating.\"\n",
    "                                  \"Here are the definition of common grammatical errors in arabic and examples on how to fix them:\"\n",
    "                                  f\"\\n{err_def_str}\\n\"},\n",
    "    {\"role\": \"user\", \"content\": f\"{q14[2]['source']}\"}, {\"role\": \"assistant\", \"content\": f\"{q14[2]['correct']}\"},\n",
    "    {\"role\": \"user\", \"content\": f\"{q15l1[32]['source']}\"}, {\"role\": \"assistant\", \"content\": f\"{q15l1[32]['correct']}\"},\n",
    "    {\"role\": \"user\", \"content\": f\"{q15l2[64]['source']}\"}, {\"role\": \"assistant\", \"content\": f\"{q15l2[64]['correct']}\"},\n",
    "    {\"role\": \"user\", \"content\": f\"{zaebuc[1]['source']}\"}, {\"role\": \"assistant\", \"content\": f\"{zaebuc[1]['correct']}\"},\n",
    "    {\"role\": \"user\", \"content\": f\"{q15l2_test[6]['source']}\"},\n",
    "]\n",
    "pipe(messages, max_length=8192)"
   ]
  },
  {
   "cell_type": "code",
   "execution_count": null,
   "metadata": {},
   "outputs": [],
   "source": [
    "messages = [\n",
    "    {\"role\": \"system\", \"content\": \"You are an AI assistant fluent in Arabic. Your Goal is to correct the grammatical mistakes in any given \"\n",
    "                                  \"sentence. You shold only output the version of the sentence free of any grammatical errors without \"\n",
    "                                  \"adding anything else or changing the formating.\"\n",
    "                                  \"Here are the definition of common grammatical errors in arabic and examples on how to fix them:\"\n",
    "                                  f\"\\n{err_def_str}\\n\"},\n",
    "    {\"role\": \"user\", \"content\": f\"{q14[2]['source']}\"}, {\"role\": \"assistant\", \"content\": f\"{q14[2]['correct']}\"},\n",
    "    {\"role\": \"user\", \"content\": f\"{q15l1[32]['source']}\"}, {\"role\": \"assistant\", \"content\": f\"{q15l1[32]['correct']}\"},\n",
    "    {\"role\": \"user\", \"content\": f\"{q15l2[64]['source']}\"}, {\"role\": \"assistant\", \"content\": f\"{q15l2[64]['correct']}\"},\n",
    "    {\"role\": \"user\", \"content\": f\"{zaebuc[1]['source']}\"}, {\"role\": \"assistant\", \"content\": f\"{zaebuc[1]['correct']}\"},\n",
    "    {\"role\": \"user\", \"content\": f\"{q15l1_test[0]['source']}\"},\n",
    "]\n",
    "pipe(messages, max_length=8192)"
   ]
  },
  {
   "cell_type": "code",
   "execution_count": null,
   "metadata": {},
   "outputs": [],
   "source": [
    "messages = [\n",
    "    {\"role\": \"system\", \"content\": \"You are an AI assistant fluent in Arabic. Your Goal is to correct the grammatical mistakes in any given \"\n",
    "                                  \"sentence. You shold only output the version of the sentence free of any grammatical errors without \"\n",
    "                                  \"adding anything else or changing the formating.\"\n",
    "                                  \"Here are the definition of common grammatical errors in arabic and examples on how to fix them:\"\n",
    "                                  f\"\\n{err_def_str}\\n\"},\n",
    "    {\"role\": \"user\", \"content\": f\"{q14[2]['source']}\"}, {\"role\": \"assistant\", \"content\": f\"{q14[2]['correct']}\"},\n",
    "    {\"role\": \"user\", \"content\": f\"{q15l1[32]['source']}\"}, {\"role\": \"assistant\", \"content\": f\"{q15l1[32]['correct']}\"},\n",
    "    {\"role\": \"user\", \"content\": f\"{q15l2[64]['source']}\"}, {\"role\": \"assistant\", \"content\": f\"{q15l2[64]['correct']}\"},\n",
    "    {\"role\": \"user\", \"content\": f\"{zaebuc[1]['source']}\"}, {\"role\": \"assistant\", \"content\": f\"{zaebuc[1]['correct']}\"},\n",
    "    {\"role\": \"user\", \"content\": f\"{q15l1_test[500]['source']}\"},\n",
    "]\n",
    "pipe(messages, max_length=8192)"
   ]
  },
  {
   "cell_type": "code",
   "execution_count": null,
   "metadata": {},
   "outputs": [],
   "source": [
    "messages = [\n",
    "    {\"role\": \"system\", \"content\": \"You are an AI assistant fluent in Arabic. Your Goal is to correct the grammatical mistakes in any given \"\n",
    "                                  \"sentence. You shold only output the version of the sentence free of any grammatical errors without \"\n",
    "                                  \"adding anything else or changing the formating.\"\n",
    "                                  \"Here are the definition of common grammatical errors in arabic and examples on how to fix them:\"\n",
    "                                  f\"\\n{err_def_str}\\n\"},\n",
    "    {\"role\": \"user\", \"content\": f\"{q14[2]['source']}\"}, {\"role\": \"assistant\", \"content\": f\"{q14[2]['correct']}\"},\n",
    "    {\"role\": \"user\", \"content\": f\"{q15l1[32]['source']}\"}, {\"role\": \"assistant\", \"content\": f\"{q15l1[32]['correct']}\"},\n",
    "    {\"role\": \"user\", \"content\": f\"{q15l2[64]['source']}\"}, {\"role\": \"assistant\", \"content\": f\"{q15l2[64]['correct']}\"},\n",
    "    {\"role\": \"user\", \"content\": f\"{zaebuc[1]['source']}\"}, {\"role\": \"assistant\", \"content\": f\"{zaebuc[1]['correct']}\"},\n",
    "    {\"role\": \"user\", \"content\": f\"{zaebuc_test[16]['source']}\"},\n",
    "]\n",
    "pipe(messages, max_length=8192)"
   ]
  },
  {
   "cell_type": "code",
   "execution_count": 29,
   "metadata": {},
   "outputs": [
    {
     "name": "stdout",
     "output_type": "stream",
     "text": [
      "{'MG': 0.8653902947355987,\n",
      " 'MI': 0.5618792875043245,\n",
      " 'MT': 0.022360416156877307,\n",
      " 'OA': 0.7504661935821386,\n",
      " 'OC': 0.046324031962738266,\n",
      " 'OD': 0.9527224861407609,\n",
      " 'OG': 0.17837705568165518,\n",
      " 'OH': 8.319846767865128,\n",
      " 'OM': 0.5779956629230549,\n",
      " 'ON': 0.00025313678668162983,\n",
      " 'OR': 1.1644292187354974,\n",
      " 'OS': 8.437892889387661e-05,\n",
      " 'OT': 1.4568022073527798,\n",
      " 'OW': 0.029785761899538448,\n",
      " 'PC': 1.0523740011644291,\n",
      " 'PM': 0.5340342409693452,\n",
      " 'PT': 8.60850708361108,\n",
      " 'SF': 0.136778243736974,\n",
      " 'SP': 0.7119894020065309,\n",
      " 'SW': 0.5003670483406883,\n",
      " 'UC': 71.41570966898146,\n",
      " 'XC': 0.6641465493237029,\n",
      " 'XF': 0.15829487060491254,\n",
      " 'XG': 0.1425160109017576,\n",
      " 'XM': 0.7512256039421836,\n",
      " 'XN': 0.1850429910642714,\n",
      " 'XT': 0.21229738509699358}\n",
      "{'MG': 1.652418851852417,\n",
      " 'MI': 1.62753164768219,\n",
      " 'MT': 1.584214210510254,\n",
      " 'OA': 1.6429506540298462,\n",
      " 'OC': 1.586113691329956,\n",
      " 'OD': 1.6596496105194092,\n",
      " 'OG': 1.5966206789016724,\n",
      " 'OH': 2.3987860679626465,\n",
      " 'OM': 1.6288433074951172,\n",
      " 'ON': 1.5824639797210693,\n",
      " 'OR': 1.677310824394226,\n",
      " 'OS': 1.5824507474899292,\n",
      " 'OT': 1.7020113468170166,\n",
      " 'OW': 1.5848026275634766,\n",
      " 'PC': 1.6679399013519287,\n",
      " 'PM': 1.6252672672271729,\n",
      " 'PT': 2.4336588382720947,\n",
      " 'SF': 1.5933030843734741,\n",
      " 'SP': 1.6397929191589355,\n",
      " 'SW': 1.6225337982177734,\n",
      " 'UC': 56.24718475341797,\n",
      " 'XC': 1.6358752250671387,\n",
      " 'XF': 1.5950183868408203,\n",
      " 'XG': 1.59376060962677,\n",
      " 'XM': 1.6430128812789917,\n",
      " 'XN': 1.597152829170227,\n",
      " 'XT': 1.5993307828903198}\n"
     ]
    }
   ],
   "source": [
    "with open('../../data/real/clean/qalb-14+qalb-15+ZAEBUC/annotations/qalb-14+qalb-15+ZAEBUC_error-distribution.json') as f:\n",
    "    err_dist = json.load(f)\n",
    "    \n",
    "pp.pprint(err_dist)\n",
    "    \n",
    "vals = list(err_dist.values())\n",
    "import torch\n",
    "vals = torch.tensor(vals)\n",
    "T = 20.0\n",
    "vals = torch.softmax(vals / T, dim=0) * 100\n",
    "vals = vals.tolist()\n",
    "for k in err_dist.keys():\n",
    "    err_dist[k] = vals.pop(0)\n",
    "pp.pprint(err_dist)\n",
    "\n",
    "with open('../../data/real/clean/qalb-14+qalb-15+ZAEBUC/annotations/qalb-14+qalb-15+ZAEBUC_error-distribution_temp_20.json', 'w') as f:\n",
    "    json.dump(err_dist, f, indent=2)\n",
    "\n"
   ]
  },
  {
   "cell_type": "code",
   "execution_count": null,
   "metadata": {},
   "outputs": [],
   "source": [
    "import json\n",
    "with open(\"../../data/synthetic/qalb15/train_llm_rulebased_hybrid.jsonl\") as f:\n",
    "    syn = [json.loads(l) for l in f]\n",
    "\n",
    "import pprint as pp\n",
    "\n",
    "pp.pprint(syn)"
   ]
  },
  {
   "cell_type": "code",
   "execution_count": null,
   "metadata": {},
   "outputs": [],
   "source": []
  }
 ],
 "metadata": {
  "kernelspec": {
   "display_name": "arabic-gec",
   "language": "python",
   "name": "python3"
  },
  "language_info": {
   "codemirror_mode": {
    "name": "ipython",
    "version": 3
   },
   "file_extension": ".py",
   "mimetype": "text/x-python",
   "name": "python",
   "nbconvert_exporter": "python",
   "pygments_lexer": "ipython3",
   "version": "3.10.15"
  }
 },
 "nbformat": 4,
 "nbformat_minor": 2
}
