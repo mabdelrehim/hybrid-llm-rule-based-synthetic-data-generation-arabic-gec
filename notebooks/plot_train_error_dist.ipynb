{
 "cells": [
  {
   "cell_type": "code",
   "execution_count": 41,
   "metadata": {},
   "outputs": [],
   "source": [
    "from collections import defaultdict\n",
    "import json\n",
    "\n",
    "ERROR_CLASSES = set([\n",
    "    'OH', 'OT', 'OA', 'OW', 'ON', 'OS', 'OG', 'OC', 'OR', 'OD', 'OM', # orthographic errors\n",
    "    'MI', 'MT', # morphological errors\n",
    "    'XC', 'XF', 'XG', 'XN', 'XT', 'XM', # syntactic errors\n",
    "    'SW', 'SF', # semantic errors\n",
    "    'PC', 'PT', 'PM', # punctuation errors\n",
    "    'MG', 'SP', # incorrectly merged/split words\n",
    "    'UC' # No error\n",
    "])\n",
    "\n",
    "with open('../../data/real/clean/qalb-14+qalb-15+ZAEBUC/annotations/qalb-14+qalb-15+ZAEBUC_train.areta.txt') as f:\n",
    "  tags = f.readlines()\n",
    "  \n",
    "error_freqs = defaultdict(lambda: 0)\n",
    "for t in tags:\n",
    "  t = t.strip().split('\\t')[-1]\n",
    "  t = t.split('+')\n",
    "  for i in t:\n",
    "    error_freqs[i] += 1\n",
    "    \n",
    "del error_freqs['UNK']\n",
    "del error_freqs['X']\n",
    "del error_freqs['O']\n",
    "del error_freqs['M']\n",
    "del error_freqs['S']\n",
    "del error_freqs['']\n",
    "    \n",
    "for k in ERROR_CLASSES:\n",
    "  if k not in error_freqs:\n",
    "    error_freqs[k] = 1\n",
    "    \n",
    "error_freqs = dict(error_freqs)\n",
    "total = sum(error_freqs.values())\n",
    "for k, v in error_freqs.items():\n",
    "  error_freqs[k] = (v / total) * 100\n",
    "  \n",
    "# json.dump(error_freqs, open('qalb-14+qalb-15+ZAEBUC_error-distribution.json', 'w'))"
   ]
  },
  {
   "cell_type": "code",
   "execution_count": 42,
   "metadata": {},
   "outputs": [
    {
     "name": "stdout",
     "output_type": "stream",
     "text": [
      "{\n",
      "  \"UC\": 71.41570966898146,\n",
      "  \"OH\": 8.319846767865128,\n",
      "  \"MG\": 0.8653902947355987,\n",
      "  \"XG\": 0.1425160109017576,\n",
      "  \"OT\": 1.4568022073527798,\n",
      "  \"MI\": 0.5618792875043245,\n",
      "  \"OD\": 0.9527224861407609,\n",
      "  \"XM\": 0.7512256039421836,\n",
      "  \"XC\": 0.6641465493237029,\n",
      "  \"OM\": 0.5779956629230549,\n",
      "  \"OR\": 1.1644292187354974,\n",
      "  \"PT\": 8.60850708361108,\n",
      "  \"XN\": 0.1850429910642714,\n",
      "  \"SW\": 0.5003670483406883,\n",
      "  \"PC\": 1.0523740011644291,\n",
      "  \"PM\": 0.5340342409693452,\n",
      "  \"XT\": 0.21229738509699358,\n",
      "  \"SF\": 0.136778243736974,\n",
      "  \"OC\": 0.046324031962738266,\n",
      "  \"SP\": 0.7119894020065309,\n",
      "  \"OA\": 0.7504661935821386,\n",
      "  \"OG\": 0.17837705568165518,\n",
      "  \"XF\": 0.15829487060491254,\n",
      "  \"MT\": 0.022360416156877307,\n",
      "  \"OW\": 0.029785761899538448,\n",
      "  \"ON\": 0.00025313678668162983,\n",
      "  \"OS\": 8.437892889387661e-05\n",
      "}\n",
      "100.0\n"
     ]
    }
   ],
   "source": [
    "print(json.dumps(error_freqs, indent=2))\n",
    "print(sum(error_freqs.values()))"
   ]
  },
  {
   "cell_type": "code",
   "execution_count": 35,
   "metadata": {},
   "outputs": [],
   "source": [
    "keep = error_freqs['UC'] / 100\n",
    "err = 1 - keep\n",
    "del error_freqs['UC']\n"
   ]
  },
  {
   "cell_type": "code",
   "execution_count": 43,
   "metadata": {},
   "outputs": [],
   "source": [
    "keys = list(error_freqs.keys())\n",
    "values = list(error_freqs.values())\n",
    "\n",
    "import torch\n",
    "values = torch.tensor(values)"
   ]
  },
  {
   "cell_type": "code",
   "execution_count": 44,
   "metadata": {},
   "outputs": [
    {
     "name": "stdout",
     "output_type": "stream",
     "text": [
      "tensor([7.1416e+01, 8.3198e+00, 8.6539e-01, 1.4252e-01, 1.4568e+00, 5.6188e-01,\n",
      "        9.5272e-01, 7.5123e-01, 6.6415e-01, 5.7800e-01, 1.1644e+00, 8.6085e+00,\n",
      "        1.8504e-01, 5.0037e-01, 1.0524e+00, 5.3403e-01, 2.1230e-01, 1.3678e-01,\n",
      "        4.6324e-02, 7.1199e-01, 7.5047e-01, 1.7838e-01, 1.5829e-01, 2.2360e-02,\n",
      "        2.9786e-02, 2.5314e-04, 8.4379e-05]) tensor(100.0000)\n"
     ]
    }
   ],
   "source": [
    "print(values, torch.sum(values))"
   ]
  },
  {
   "cell_type": "code",
   "execution_count": 45,
   "metadata": {},
   "outputs": [
    {
     "name": "stdout",
     "output_type": "stream",
     "text": [
      "tensor([38.9474,  3.1217,  2.3168,  2.2508,  2.3723,  2.2889,  2.3249,  2.3063,\n",
      "         2.2983,  2.2903,  2.3447,  3.1579,  2.2546,  2.2832,  2.3342,  2.2863,\n",
      "         2.2571,  2.2503,  2.2422,  2.3027,  2.3062,  2.2540,  2.2522,  2.2400,\n",
      "         2.2407,  2.2380,  2.2380]) tensor(100.0000)\n"
     ]
    }
   ],
   "source": [
    "T = 25\n",
    "new_values = torch.softmax(values / T, dim = 0) * 100 # * err\n",
    "print(new_values, torch.sum(new_values))"
   ]
  },
  {
   "cell_type": "code",
   "execution_count": 46,
   "metadata": {},
   "outputs": [
    {
     "name": "stdout",
     "output_type": "stream",
     "text": [
      "{\n",
      "  \"UC\": 38.947357177734375,\n",
      "  \"OH\": 3.1216959953308105,\n",
      "  \"MG\": 2.3168258666992188,\n",
      "  \"XG\": 2.2507941722869873,\n",
      "  \"OT\": 2.3722875118255615,\n",
      "  \"MI\": 2.2888689041137695,\n",
      "  \"OD\": 2.3249332904815674,\n",
      "  \"XM\": 2.306270122528076,\n",
      "  \"XC\": 2.298250675201416,\n",
      "  \"OM\": 2.2903449535369873,\n",
      "  \"OR\": 2.34470534324646,\n",
      "  \"PT\": 3.1579489707946777,\n",
      "  \"XN\": 2.2546262741088867,\n",
      "  \"SW\": 2.2832441329956055,\n",
      "  \"PC\": 2.334219217300415,\n",
      "  \"PM\": 2.286320686340332,\n",
      "  \"XT\": 2.2570858001708984,\n",
      "  \"SF\": 2.2502779960632324,\n",
      "  \"OC\": 2.2421507835388184,\n",
      "  \"SP\": 2.3026533126831055,\n",
      "  \"OA\": 2.306199789047241,\n",
      "  \"OG\": 2.254025459289551,\n",
      "  \"XF\": 2.2522151470184326,\n",
      "  \"MT\": 2.240002155303955,\n",
      "  \"OW\": 2.2406675815582275,\n",
      "  \"ON\": 2.2380223274230957,\n",
      "  \"OS\": 2.2380073070526123\n",
      "}\n"
     ]
    }
   ],
   "source": [
    "new_err_freqs= {k: v.item() for k, v in zip(keys, new_values)}\n",
    "# new_err_freqs['UC'] = keep * 100\n",
    "print(json.dumps(new_err_freqs, indent=2))"
   ]
  },
  {
   "cell_type": "code",
   "execution_count": 47,
   "metadata": {},
   "outputs": [],
   "source": [
    "with open('../../data/real/clean/qalb-14+qalb-15+ZAEBUC/annotations/qalb-14+qalb-15+ZAEBUC_error-distribution_temp_25.json', 'w') as f:\n",
    "    json.dump(new_err_freqs, f, indent=2)"
   ]
  },
  {
   "cell_type": "code",
   "execution_count": null,
   "metadata": {},
   "outputs": [],
   "source": []
  }
 ],
 "metadata": {
  "kernelspec": {
   "display_name": "arabic-gec",
   "language": "python",
   "name": "python3"
  },
  "language_info": {
   "codemirror_mode": {
    "name": "ipython",
    "version": 3
   },
   "file_extension": ".py",
   "mimetype": "text/x-python",
   "name": "python",
   "nbconvert_exporter": "python",
   "pygments_lexer": "ipython3",
   "version": "3.10.16"
  }
 },
 "nbformat": 4,
 "nbformat_minor": 2
}
